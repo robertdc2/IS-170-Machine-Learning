{
  "nbformat": 4,
  "nbformat_minor": 0,
  "metadata": {
    "colab": {
      "provenance": [],
      "include_colab_link": true
    },
    "kernelspec": {
      "name": "python3",
      "display_name": "Python 3"
    },
    "language_info": {
      "name": "python"
    }
  },
  "cells": [
    {
      "cell_type": "markdown",
      "metadata": {
        "id": "view-in-github",
        "colab_type": "text"
      },
      "source": [
        "<a href=\"https://colab.research.google.com/github/robertdc2/IS-170-Machine-Learning/blob/3.-Text-Mining-%26-NLP/Sanchez_Schultz_Lab_Sentiment_Analysis_1.ipynb\" target=\"_parent\"><img src=\"https://colab.research.google.com/assets/colab-badge.svg\" alt=\"Open In Colab\"/></a>"
      ]
    },
    {
      "cell_type": "code",
      "source": [
        "import nltk\n",
        "nltk.download('punkt')\n"
      ],
      "metadata": {
        "colab": {
          "base_uri": "https://localhost:8080/"
        },
        "id": "-iqUdPP_hPSg",
        "outputId": "29de0d8a-871e-44fc-ff1f-b2e4b62e5a28"
      },
      "execution_count": null,
      "outputs": [
        {
          "output_type": "stream",
          "name": "stderr",
          "text": [
            "[nltk_data] Downloading package punkt to /root/nltk_data...\n",
            "[nltk_data]   Unzipping tokenizers/punkt.zip.\n"
          ]
        },
        {
          "output_type": "execute_result",
          "data": {
            "text/plain": [
              "True"
            ]
          },
          "metadata": {},
          "execution_count": 1
        }
      ]
    },
    {
      "cell_type": "markdown",
      "source": [
        "# Sentiment Analysis"
      ],
      "metadata": {
        "id": "MSKbURahHm1e"
      }
    },
    {
      "cell_type": "code",
      "source": [
        "!pip install Textblob"
      ],
      "metadata": {
        "colab": {
          "base_uri": "https://localhost:8080/"
        },
        "id": "66ftjC-gGihF",
        "outputId": "c81cb4ad-b390-4a95-879c-ef8e4c758a89"
      },
      "execution_count": null,
      "outputs": [
        {
          "output_type": "stream",
          "name": "stdout",
          "text": [
            "Looking in indexes: https://pypi.org/simple, https://us-python.pkg.dev/colab-wheels/public/simple/\n",
            "Requirement already satisfied: Textblob in /usr/local/lib/python3.8/dist-packages (0.15.3)\n",
            "Requirement already satisfied: nltk>=3.1 in /usr/local/lib/python3.8/dist-packages (from Textblob) (3.7)\n",
            "Requirement already satisfied: joblib in /usr/local/lib/python3.8/dist-packages (from nltk>=3.1->Textblob) (1.2.0)\n",
            "Requirement already satisfied: click in /usr/local/lib/python3.8/dist-packages (from nltk>=3.1->Textblob) (7.1.2)\n",
            "Requirement already satisfied: tqdm in /usr/local/lib/python3.8/dist-packages (from nltk>=3.1->Textblob) (4.64.1)\n",
            "Requirement already satisfied: regex>=2021.8.3 in /usr/local/lib/python3.8/dist-packages (from nltk>=3.1->Textblob) (2022.6.2)\n"
          ]
        }
      ]
    },
    {
      "cell_type": "code",
      "source": [
        "!pip install vaderSentiment"
      ],
      "metadata": {
        "colab": {
          "base_uri": "https://localhost:8080/"
        },
        "id": "6EPxcnDaGnWX",
        "outputId": "ff2d37a4-e7b3-490d-d864-f084465e6e20"
      },
      "execution_count": null,
      "outputs": [
        {
          "output_type": "stream",
          "name": "stdout",
          "text": [
            "Looking in indexes: https://pypi.org/simple, https://us-python.pkg.dev/colab-wheels/public/simple/\n",
            "Collecting vaderSentiment\n",
            "  Downloading vaderSentiment-3.3.2-py2.py3-none-any.whl (125 kB)\n",
            "\u001b[2K     \u001b[90m━━━━━━━━━━━━━━━━━━━━━━━━━━━━━━━━━━━━━━━\u001b[0m \u001b[32m126.0/126.0 KB\u001b[0m \u001b[31m4.0 MB/s\u001b[0m eta \u001b[36m0:00:00\u001b[0m\n",
            "\u001b[?25hRequirement already satisfied: requests in /usr/local/lib/python3.8/dist-packages (from vaderSentiment) (2.25.1)\n",
            "Requirement already satisfied: idna<3,>=2.5 in /usr/local/lib/python3.8/dist-packages (from requests->vaderSentiment) (2.10)\n",
            "Requirement already satisfied: urllib3<1.27,>=1.21.1 in /usr/local/lib/python3.8/dist-packages (from requests->vaderSentiment) (1.24.3)\n",
            "Requirement already satisfied: certifi>=2017.4.17 in /usr/local/lib/python3.8/dist-packages (from requests->vaderSentiment) (2022.12.7)\n",
            "Requirement already satisfied: chardet<5,>=3.0.2 in /usr/local/lib/python3.8/dist-packages (from requests->vaderSentiment) (4.0.0)\n",
            "Installing collected packages: vaderSentiment\n",
            "Successfully installed vaderSentiment-3.3.2\n"
          ]
        }
      ]
    },
    {
      "cell_type": "code",
      "source": [
        " from vaderSentiment.vaderSentiment import SentimentIntensityAnalyzer\n",
        " analyser=SentimentIntensityAnalyzer()\n",
        " "
      ],
      "metadata": {
        "id": "EIwuvHeMGwfh"
      },
      "execution_count": null,
      "outputs": []
    },
    {
      "cell_type": "code",
      "source": [
        "# Analyzes the sentence for positive, neutral, and negative words. We changed the word from cool to awesome and the postive score increased\n",
        "def sentiment_analyzer_scores(sentence):\n",
        "  score=analyser.polarity_scores(sentence)\n",
        "  print(\"{:-<40}{}\".format(sentence,str(score)))\n",
        "\n",
        "print(sentiment_analyzer_scores(\"The car is awesome!\"))\n"
      ],
      "metadata": {
        "colab": {
          "base_uri": "https://localhost:8080/"
        },
        "id": "TgUeBDejHmYo",
        "outputId": "0a10b6e9-bbcf-461e-d52c-f997685008f5"
      },
      "execution_count": null,
      "outputs": [
        {
          "output_type": "stream",
          "name": "stdout",
          "text": [
            "The car is awesome!---------------------{'neg': 0.0, 'neu': 0.406, 'pos': 0.594, 'compound': 0.6588}\n",
            "None\n"
          ]
        }
      ]
    },
    {
      "cell_type": "code",
      "source": [
        "# The more exclamation marks increase the positive sentiment, but caps out at 4 exclamation marks. Some words have more positive sentiment than others\n",
        "print(sentiment_analyzer_scores(\"The car is awesome!!!!\"))\n",
        "print(sentiment_analyzer_scores(\"The car is cool!\"))\n",
        "print(sentiment_analyzer_scores(\"The car is cool!!!!\"))\n",
        "print(sentiment_analyzer_scores(\"The car is cool!!!!!!!!!!!!!\"))"
      ],
      "metadata": {
        "colab": {
          "base_uri": "https://localhost:8080/"
        },
        "id": "QfJd5r-yXy9q",
        "outputId": "846f9f78-999b-4d6c-8318-b66f25fd3b41"
      },
      "execution_count": null,
      "outputs": [
        {
          "output_type": "stream",
          "name": "stdout",
          "text": [
            "The car is awesome!!!!------------------{'neg': 0.0, 'neu': 0.363, 'pos': 0.637, 'compound': 0.7405}\n",
            "None\n",
            "The car is cool!------------------------{'neg': 0.0, 'neu': 0.536, 'pos': 0.464, 'compound': 0.3802}\n",
            "None\n",
            "The car is cool!!!!---------------------{'neg': 0.0, 'neu': 0.464, 'pos': 0.536, 'compound': 0.5374}\n",
            "None\n",
            "The car is cool!!!!!!!!!!!!!------------{'neg': 0.0, 'neu': 0.464, 'pos': 0.536, 'compound': 0.5374}\n",
            "None\n"
          ]
        }
      ]
    },
    {
      "cell_type": "code",
      "source": [
        "# As we add more details describing the word it can effect the sentiment scores\n",
        "print(sentiment_analyzer_scores(\"The car is not very cool.\"))\n",
        "print(sentiment_analyzer_scores(\"The car is marginally cool!\"))\n",
        "print(sentiment_analyzer_scores(\"The car is extremely cool!\"))"
      ],
      "metadata": {
        "colab": {
          "base_uri": "https://localhost:8080/"
        },
        "id": "JWvNdY09dRqz",
        "outputId": "de0abda0-fcdc-44a2-9487-c2d49537822e"
      },
      "execution_count": null,
      "outputs": [
        {
          "output_type": "stream",
          "name": "stdout",
          "text": [
            "The car is not very cool.---------------{'neg': 0.304, 'neu': 0.696, 'pos': 0.0, 'compound': -0.2912}\n",
            "None\n",
            "The car is marginally cool!-------------{'neg': 0.0, 'neu': 0.635, 'pos': 0.365, 'compound': 0.318}\n",
            "None\n",
            "The car is extremely cool!--------------{'neg': 0.0, 'neu': 0.581, 'pos': 0.419, 'compound': 0.4376}\n",
            "None\n"
          ]
        }
      ]
    },
    {
      "cell_type": "code",
      "source": [
        " # This command prints entire statement and then provides the sentiment values\n",
        " from vaderSentiment.vaderSentiment import SentimentIntensityAnalyzer\n",
        " analyser=SentimentIntensityAnalyzer()\n",
        "\n",
        " def sentiment_analyzer_scores(sentence):\n",
        "  score=analyser.polarity_scores(sentence)\n",
        "  print(\"{:-<40}{}\".format(sentence,str(score)))\n",
        "\n",
        "print(sentiment_analyzer_scores(\"I enjoyed your hotel food, but I didn't like the way waiters offer their services\"))\n"
      ],
      "metadata": {
        "colab": {
          "base_uri": "https://localhost:8080/"
        },
        "id": "qGXLWcGGbF8t",
        "outputId": "2f12bcfa-ca9d-41de-bb54-6851032cfe38"
      },
      "execution_count": null,
      "outputs": [
        {
          "output_type": "stream",
          "name": "stdout",
          "text": [
            "I enjoyed your hotel food, but I didn't like the way waiters offer their services{'neg': 0.15, 'neu': 0.73, 'pos': 0.121, 'compound': -0.1318}\n",
            "None\n"
          ]
        }
      ]
    },
    {
      "cell_type": "markdown",
      "source": [
        "# Chatbot"
      ],
      "metadata": {
        "id": "eh8ZcdmLwp97"
      }
    },
    {
      "cell_type": "code",
      "source": [
        "!pip install chatterbot\n",
        "!pip install chatterbot_corpus\n"
      ],
      "metadata": {
        "colab": {
          "base_uri": "https://localhost:8080/"
        },
        "id": "tIgzkA2wws29",
        "outputId": "ec1d5e09-c0cb-417c-bae1-a513f0b510d8"
      },
      "execution_count": null,
      "outputs": [
        {
          "output_type": "stream",
          "name": "stdout",
          "text": [
            "Looking in indexes: https://pypi.org/simple, https://us-python.pkg.dev/colab-wheels/public/simple/\n",
            "Collecting chatterbot\n",
            "  Downloading ChatterBot-1.0.5-py2.py3-none-any.whl (67 kB)\n",
            "\u001b[2K     \u001b[90m━━━━━━━━━━━━━━━━━━━━━━━━━━━━━━━━━━━━━━━━\u001b[0m \u001b[32m67.8/67.8 KB\u001b[0m \u001b[31m2.1 MB/s\u001b[0m eta \u001b[36m0:00:00\u001b[0m\n",
            "\u001b[?25hCollecting python-dateutil<2.8,>=2.7\n",
            "  Downloading python_dateutil-2.7.5-py2.py3-none-any.whl (225 kB)\n",
            "\u001b[2K     \u001b[90m━━━━━━━━━━━━━━━━━━━━━━━━━━━━━━━━━━━━━━━\u001b[0m \u001b[32m225.7/225.7 KB\u001b[0m \u001b[31m8.3 MB/s\u001b[0m eta \u001b[36m0:00:00\u001b[0m\n",
            "\u001b[?25hCollecting mathparse<0.2,>=0.1\n",
            "  Downloading mathparse-0.1.2-py3-none-any.whl (7.2 kB)\n",
            "Collecting pyyaml<5.2,>=5.1\n",
            "  Downloading PyYAML-5.1.2.tar.gz (265 kB)\n",
            "\u001b[2K     \u001b[90m━━━━━━━━━━━━━━━━━━━━━━━━━━━━━━━━━━━━━━\u001b[0m \u001b[32m265.0/265.0 KB\u001b[0m \u001b[31m16.0 MB/s\u001b[0m eta \u001b[36m0:00:00\u001b[0m\n",
            "\u001b[?25h  Preparing metadata (setup.py) ... \u001b[?25l\u001b[?25hdone\n",
            "Requirement already satisfied: nltk<4.0,>=3.2 in /usr/local/lib/python3.8/dist-packages (from chatterbot) (3.7)\n",
            "Requirement already satisfied: pytz in /usr/local/lib/python3.8/dist-packages (from chatterbot) (2022.7.1)\n",
            "Collecting pymongo<4.0,>=3.3\n",
            "  Downloading pymongo-3.13.0-cp38-cp38-manylinux_2_17_x86_64.manylinux2014_x86_64.whl (526 kB)\n",
            "\u001b[2K     \u001b[90m━━━━━━━━━━━━━━━━━━━━━━━━━━━━━━━━━━━━━━━\u001b[0m \u001b[32m526.2/526.2 KB\u001b[0m \u001b[31m8.5 MB/s\u001b[0m eta \u001b[36m0:00:00\u001b[0m\n",
            "\u001b[?25hCollecting pint>=0.8.1\n",
            "  Downloading Pint-0.20.1-py3-none-any.whl (269 kB)\n",
            "\u001b[2K     \u001b[90m━━━━━━━━━━━━━━━━━━━━━━━━━━━━━━━━━━━━━━━\u001b[0m \u001b[32m269.5/269.5 KB\u001b[0m \u001b[31m8.8 MB/s\u001b[0m eta \u001b[36m0:00:00\u001b[0m\n",
            "\u001b[?25hCollecting spacy<2.2,>=2.1\n",
            "  Downloading spacy-2.1.9.tar.gz (30.7 MB)\n",
            "\u001b[2K     \u001b[90m━━━━━━━━━━━━━━━━━━━━━━━━━━━━━━━━━━━━━━━━\u001b[0m \u001b[32m30.7/30.7 MB\u001b[0m \u001b[31m10.6 MB/s\u001b[0m eta \u001b[36m0:00:00\u001b[0m\n",
            "\u001b[?25h"
          ]
        }
      ]
    },
    {
      "cell_type": "code",
      "source": [
        "!pip install --upgrade chatterbot_corpus\n",
        "!pip install --upgrade chatterbot\n"
      ],
      "metadata": {
        "id": "c0tszLJ5xUoe"
      },
      "execution_count": null,
      "outputs": []
    },
    {
      "cell_type": "code",
      "source": [
        "from chatterbot import ChatBot\n",
        "from chatterbot.trainers import ListTrainer\n"
      ],
      "metadata": {
        "id": "8fr55-_6xsRD"
      },
      "execution_count": null,
      "outputs": []
    },
    {
      "cell_type": "code",
      "source": [
        "my_bot=ChatBot(name='PyBot', read_only=True, logic_adapters=['chatterbot.logic.MathematicalEvaluation', 'chatterbot.logic.BestMatch'])\n"
      ],
      "metadata": {
        "id": "DihxLCLKx3DG"
      },
      "execution_count": null,
      "outputs": []
    },
    {
      "cell_type": "code",
      "source": [
        "small_talk=['hi there!',\n",
        "            'hi!',\n",
        "            'how do you do?',\n",
        "            'how are you?',\n",
        "            'i\\'m cool.',\n",
        "            'fine, you?',\n",
        "            'always cool.',\n",
        "            'i\\'m ok',\n",
        "            'glad to hear that.',\n",
        "            'i\\'m fine',\n",
        "            'glad to hear that.',\n",
        "            'i feel awesome',\n",
        "            'excellent, glad to hear that.',\n",
        "            'not so good',\n",
        "            'sorry to hear that.',\n",
        "            'what\\'s your name?',\n",
        "            'i\\'m pybot. ask me a math question, please.']\n",
        "\n",
        "math_talk_2=['law of cosines',\n",
        "             'c**2 = a**2 + b**2-2*a*b*cos(gamma)']\n"
      ],
      "metadata": {
        "id": "k05C2XEcZYvq"
      },
      "execution_count": null,
      "outputs": []
    },
    {
      "cell_type": "code",
      "source": [
        "list_trainer=ListTrainer(my_bot)\n",
        "\n",
        "for item in (small_talk, math_talk_2):\n",
        "    list_trainer.train(item)\n"
      ],
      "metadata": {
        "id": "VyFqGZOTc1AT"
      },
      "execution_count": null,
      "outputs": []
    },
    {
      "cell_type": "code",
      "source": [
        "print(my_bot.get_response(\"hi\"))\n"
      ],
      "metadata": {
        "id": "GzFhXAXldGqy"
      },
      "execution_count": null,
      "outputs": []
    },
    {
      "cell_type": "code",
      "source": [
        "print(my_bot.get_response(\"i feel awesome today\"))"
      ],
      "metadata": {
        "id": "N8nbSVoBejVs"
      },
      "execution_count": null,
      "outputs": []
    },
    {
      "cell_type": "code",
      "source": [
        "print(my_bot.get_response(\"what's your name?\"))"
      ],
      "metadata": {
        "id": "QPjXXe3KewCk"
      },
      "execution_count": null,
      "outputs": []
    },
    {
      "cell_type": "code",
      "source": [
        "print(my_bot.get_response(\"do you know the law of cosines?\"))"
      ],
      "metadata": {
        "id": "c4Rb4xOqthED"
      },
      "execution_count": null,
      "outputs": []
    },
    {
      "cell_type": "code",
      "source": [
        "print(my_bot.get_response(\"always cool.\"))"
      ],
      "metadata": {
        "id": "b4muazwRFxly"
      },
      "execution_count": null,
      "outputs": []
    },
    {
      "cell_type": "code",
      "source": [
        "from chatterbot.trainers import ChatterBotCorpusTrainer\n",
        "\n",
        "corpus_trainer=ChatterBotCorpusTrainer(my_bot)\n",
        "corpus_trainer.train('chatterbot.corpus.english')"
      ],
      "metadata": {
        "id": "j2S5q7Pkt7MN"
      },
      "execution_count": null,
      "outputs": []
    }
  ]
}