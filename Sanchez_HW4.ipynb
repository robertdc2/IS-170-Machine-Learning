{
  "nbformat": 4,
  "nbformat_minor": 0,
  "metadata": {
    "colab": {
      "provenance": [],
      "include_colab_link": true
    },
    "kernelspec": {
      "name": "python3",
      "display_name": "Python 3"
    },
    "language_info": {
      "name": "python"
    }
  },
  "cells": [
    {
      "cell_type": "markdown",
      "metadata": {
        "id": "view-in-github",
        "colab_type": "text"
      },
      "source": [
        "<a href=\"https://colab.research.google.com/github/robertdc2/IS-170-Machine-Learning/blob/4.-K-Means-Clustering/Sanchez_HW4.ipynb\" target=\"_parent\"><img src=\"https://colab.research.google.com/assets/colab-badge.svg\" alt=\"Open In Colab\"/></a>"
      ]
    },
    {
      "cell_type": "code",
      "source": [
        "# call the required libraries\n",
        "import numpy as np\n",
        "import pandas as pd\n",
        "import matplotlib.pyplot as plt\n",
        "from sklearn.cluster import KMeans"
      ],
      "metadata": {
        "id": "WOY4L98o2GU1"
      },
      "execution_count": null,
      "outputs": []
    },
    {
      "cell_type": "code",
      "source": [
        "from google.colab import files\n",
        "\n",
        "\n",
        "uploaded = files.upload()"
      ],
      "metadata": {
        "colab": {
          "base_uri": "https://localhost:8080/",
          "height": 73
        },
        "id": "CfcDwYjQ2IVV",
        "outputId": "18b99775-617c-4056-e88c-e8daec1b2944"
      },
      "execution_count": null,
      "outputs": [
        {
          "output_type": "display_data",
          "data": {
            "text/plain": [
              "<IPython.core.display.HTML object>"
            ],
            "text/html": [
              "\n",
              "     <input type=\"file\" id=\"files-d10b55d0-667a-474c-b36b-886457485763\" name=\"files[]\" multiple disabled\n",
              "        style=\"border:none\" />\n",
              "     <output id=\"result-d10b55d0-667a-474c-b36b-886457485763\">\n",
              "      Upload widget is only available when the cell has been executed in the\n",
              "      current browser session. Please rerun this cell to enable.\n",
              "      </output>\n",
              "      <script>// Copyright 2017 Google LLC\n",
              "//\n",
              "// Licensed under the Apache License, Version 2.0 (the \"License\");\n",
              "// you may not use this file except in compliance with the License.\n",
              "// You may obtain a copy of the License at\n",
              "//\n",
              "//      http://www.apache.org/licenses/LICENSE-2.0\n",
              "//\n",
              "// Unless required by applicable law or agreed to in writing, software\n",
              "// distributed under the License is distributed on an \"AS IS\" BASIS,\n",
              "// WITHOUT WARRANTIES OR CONDITIONS OF ANY KIND, either express or implied.\n",
              "// See the License for the specific language governing permissions and\n",
              "// limitations under the License.\n",
              "\n",
              "/**\n",
              " * @fileoverview Helpers for google.colab Python module.\n",
              " */\n",
              "(function(scope) {\n",
              "function span(text, styleAttributes = {}) {\n",
              "  const element = document.createElement('span');\n",
              "  element.textContent = text;\n",
              "  for (const key of Object.keys(styleAttributes)) {\n",
              "    element.style[key] = styleAttributes[key];\n",
              "  }\n",
              "  return element;\n",
              "}\n",
              "\n",
              "// Max number of bytes which will be uploaded at a time.\n",
              "const MAX_PAYLOAD_SIZE = 100 * 1024;\n",
              "\n",
              "function _uploadFiles(inputId, outputId) {\n",
              "  const steps = uploadFilesStep(inputId, outputId);\n",
              "  const outputElement = document.getElementById(outputId);\n",
              "  // Cache steps on the outputElement to make it available for the next call\n",
              "  // to uploadFilesContinue from Python.\n",
              "  outputElement.steps = steps;\n",
              "\n",
              "  return _uploadFilesContinue(outputId);\n",
              "}\n",
              "\n",
              "// This is roughly an async generator (not supported in the browser yet),\n",
              "// where there are multiple asynchronous steps and the Python side is going\n",
              "// to poll for completion of each step.\n",
              "// This uses a Promise to block the python side on completion of each step,\n",
              "// then passes the result of the previous step as the input to the next step.\n",
              "function _uploadFilesContinue(outputId) {\n",
              "  const outputElement = document.getElementById(outputId);\n",
              "  const steps = outputElement.steps;\n",
              "\n",
              "  const next = steps.next(outputElement.lastPromiseValue);\n",
              "  return Promise.resolve(next.value.promise).then((value) => {\n",
              "    // Cache the last promise value to make it available to the next\n",
              "    // step of the generator.\n",
              "    outputElement.lastPromiseValue = value;\n",
              "    return next.value.response;\n",
              "  });\n",
              "}\n",
              "\n",
              "/**\n",
              " * Generator function which is called between each async step of the upload\n",
              " * process.\n",
              " * @param {string} inputId Element ID of the input file picker element.\n",
              " * @param {string} outputId Element ID of the output display.\n",
              " * @return {!Iterable<!Object>} Iterable of next steps.\n",
              " */\n",
              "function* uploadFilesStep(inputId, outputId) {\n",
              "  const inputElement = document.getElementById(inputId);\n",
              "  inputElement.disabled = false;\n",
              "\n",
              "  const outputElement = document.getElementById(outputId);\n",
              "  outputElement.innerHTML = '';\n",
              "\n",
              "  const pickedPromise = new Promise((resolve) => {\n",
              "    inputElement.addEventListener('change', (e) => {\n",
              "      resolve(e.target.files);\n",
              "    });\n",
              "  });\n",
              "\n",
              "  const cancel = document.createElement('button');\n",
              "  inputElement.parentElement.appendChild(cancel);\n",
              "  cancel.textContent = 'Cancel upload';\n",
              "  const cancelPromise = new Promise((resolve) => {\n",
              "    cancel.onclick = () => {\n",
              "      resolve(null);\n",
              "    };\n",
              "  });\n",
              "\n",
              "  // Wait for the user to pick the files.\n",
              "  const files = yield {\n",
              "    promise: Promise.race([pickedPromise, cancelPromise]),\n",
              "    response: {\n",
              "      action: 'starting',\n",
              "    }\n",
              "  };\n",
              "\n",
              "  cancel.remove();\n",
              "\n",
              "  // Disable the input element since further picks are not allowed.\n",
              "  inputElement.disabled = true;\n",
              "\n",
              "  if (!files) {\n",
              "    return {\n",
              "      response: {\n",
              "        action: 'complete',\n",
              "      }\n",
              "    };\n",
              "  }\n",
              "\n",
              "  for (const file of files) {\n",
              "    const li = document.createElement('li');\n",
              "    li.append(span(file.name, {fontWeight: 'bold'}));\n",
              "    li.append(span(\n",
              "        `(${file.type || 'n/a'}) - ${file.size} bytes, ` +\n",
              "        `last modified: ${\n",
              "            file.lastModifiedDate ? file.lastModifiedDate.toLocaleDateString() :\n",
              "                                    'n/a'} - `));\n",
              "    const percent = span('0% done');\n",
              "    li.appendChild(percent);\n",
              "\n",
              "    outputElement.appendChild(li);\n",
              "\n",
              "    const fileDataPromise = new Promise((resolve) => {\n",
              "      const reader = new FileReader();\n",
              "      reader.onload = (e) => {\n",
              "        resolve(e.target.result);\n",
              "      };\n",
              "      reader.readAsArrayBuffer(file);\n",
              "    });\n",
              "    // Wait for the data to be ready.\n",
              "    let fileData = yield {\n",
              "      promise: fileDataPromise,\n",
              "      response: {\n",
              "        action: 'continue',\n",
              "      }\n",
              "    };\n",
              "\n",
              "    // Use a chunked sending to avoid message size limits. See b/62115660.\n",
              "    let position = 0;\n",
              "    do {\n",
              "      const length = Math.min(fileData.byteLength - position, MAX_PAYLOAD_SIZE);\n",
              "      const chunk = new Uint8Array(fileData, position, length);\n",
              "      position += length;\n",
              "\n",
              "      const base64 = btoa(String.fromCharCode.apply(null, chunk));\n",
              "      yield {\n",
              "        response: {\n",
              "          action: 'append',\n",
              "          file: file.name,\n",
              "          data: base64,\n",
              "        },\n",
              "      };\n",
              "\n",
              "      let percentDone = fileData.byteLength === 0 ?\n",
              "          100 :\n",
              "          Math.round((position / fileData.byteLength) * 100);\n",
              "      percent.textContent = `${percentDone}% done`;\n",
              "\n",
              "    } while (position < fileData.byteLength);\n",
              "  }\n",
              "\n",
              "  // All done.\n",
              "  yield {\n",
              "    response: {\n",
              "      action: 'complete',\n",
              "    }\n",
              "  };\n",
              "}\n",
              "\n",
              "scope.google = scope.google || {};\n",
              "scope.google.colab = scope.google.colab || {};\n",
              "scope.google.colab._files = {\n",
              "  _uploadFiles,\n",
              "  _uploadFilesContinue,\n",
              "};\n",
              "})(self);\n",
              "</script> "
            ]
          },
          "metadata": {}
        },
        {
          "output_type": "stream",
          "name": "stdout",
          "text": [
            "Saving Electric_Vehicle_Population_Data.csv to Electric_Vehicle_Population_Data.csv\n"
          ]
        }
      ]
    },
    {
      "cell_type": "code",
      "source": [
        "import pandas as pd\n",
        "import numpy as np\n",
        "\n",
        "df=pd.read_csv('Electric_Vehicle_Population_Data.csv')\n",
        "df"
      ],
      "metadata": {
        "colab": {
          "base_uri": "https://localhost:8080/",
          "height": 1543
        },
        "id": "Me673qrU_WtZ",
        "outputId": "8ff6df6d-6a1f-43b2-cdf8-85fc498f4225"
      },
      "execution_count": null,
      "outputs": [
        {
          "output_type": "execute_result",
          "data": {
            "text/plain": [
              "        VIN (1-10)     County           City State  Postal Code  Model Year  \\\n",
              "0       5YJ3E1EA8J  San Diego      Oceanside    CA      92051.0        2018   \n",
              "1       3FA6P0PU7H   Sedgwick          Derby    KS      67037.0        2017   \n",
              "2       1N4AZ0CP8D  Snohomish     Marysville    WA      98271.0        2013   \n",
              "3       WBY8P8C58K     Kitsap      Bremerton    WA      98337.0        2019   \n",
              "4       5YJ3E1EA7K  Snohomish        Edmonds    WA      98026.0        2019   \n",
              "...            ...        ...            ...   ...          ...         ...   \n",
              "118954  5YJ3E1EB7N  Snohomish        Edmonds    WA      98020.0        2022   \n",
              "118955  1N4BZ0CP7H       King       Bellevue    WA      98004.0        2017   \n",
              "118956  1N4AZ1CP8J       King        Redmond    WA      98052.0        2018   \n",
              "118957  5YJXCAE41J       King        Seattle    WA      98109.0        2018   \n",
              "118958  YV4BR0CLXM     Island  Camano Island    WA      98282.0        2021   \n",
              "\n",
              "          Make    Model                   Electric Vehicle Type  \\\n",
              "0        TESLA  MODEL 3          Battery Electric Vehicle (BEV)   \n",
              "1         FORD   FUSION  Plug-in Hybrid Electric Vehicle (PHEV)   \n",
              "2       NISSAN     LEAF          Battery Electric Vehicle (BEV)   \n",
              "3          BMW       I3  Plug-in Hybrid Electric Vehicle (PHEV)   \n",
              "4        TESLA  MODEL 3          Battery Electric Vehicle (BEV)   \n",
              "...        ...      ...                                     ...   \n",
              "118954   TESLA  MODEL 3          Battery Electric Vehicle (BEV)   \n",
              "118955  NISSAN     LEAF          Battery Electric Vehicle (BEV)   \n",
              "118956  NISSAN     LEAF          Battery Electric Vehicle (BEV)   \n",
              "118957   TESLA  MODEL X          Battery Electric Vehicle (BEV)   \n",
              "118958   VOLVO     XC90  Plug-in Hybrid Electric Vehicle (PHEV)   \n",
              "\n",
              "        Clean Alternative Fuel Vehicle (CAFV) Eligibility  Electric Range  \\\n",
              "0                 Clean Alternative Fuel Vehicle Eligible             215   \n",
              "1                   Not eligible due to low battery range              21   \n",
              "2                 Clean Alternative Fuel Vehicle Eligible              75   \n",
              "3                 Clean Alternative Fuel Vehicle Eligible             126   \n",
              "4                 Clean Alternative Fuel Vehicle Eligible             220   \n",
              "...                                                   ...             ...   \n",
              "118954  Eligibility unknown as battery range has not b...               0   \n",
              "118955            Clean Alternative Fuel Vehicle Eligible             107   \n",
              "118956            Clean Alternative Fuel Vehicle Eligible             151   \n",
              "118957            Clean Alternative Fuel Vehicle Eligible             238   \n",
              "118958              Not eligible due to low battery range              18   \n",
              "\n",
              "        Base MSRP  Legislative District  DOL Vehicle ID  \\\n",
              "0               0                   NaN       153998050   \n",
              "1               0                   NaN       138214331   \n",
              "2               0                  38.0         3129059   \n",
              "3               0                  26.0       166525635   \n",
              "4               0                  32.0       475248315   \n",
              "...           ...                   ...             ...   \n",
              "118954          0                  21.0       187322495   \n",
              "118955          0                  48.0       349474394   \n",
              "118956          0                  45.0       292721068   \n",
              "118957          0                  36.0       144355970   \n",
              "118958          0                  10.0       149075293   \n",
              "\n",
              "                   Vehicle Location  \\\n",
              "0                               NaN   \n",
              "1        POINT (-97.27013 37.54531)   \n",
              "2       POINT (-122.19388 48.15353)   \n",
              "3         POINT (-122.62749 47.565)   \n",
              "4       POINT (-122.31768 47.87166)   \n",
              "...                             ...   \n",
              "118954  POINT (-122.37689 47.81116)   \n",
              "118955   POINT (-122.1872 47.61001)   \n",
              "118956  POINT (-122.13158 47.67858)   \n",
              "118957  POINT (-122.35022 47.63824)   \n",
              "118958  POINT (-122.40049 48.23986)   \n",
              "\n",
              "                                         Electric Utility  2020 Census Tract  \n",
              "0                                                     NaN       6.073019e+09  \n",
              "1                                                     NaN       2.017301e+10  \n",
              "2                                  PUGET SOUND ENERGY INC       5.306105e+10  \n",
              "3                                  PUGET SOUND ENERGY INC       5.303508e+10  \n",
              "4                                  PUGET SOUND ENERGY INC       5.306105e+10  \n",
              "...                                                   ...                ...  \n",
              "118954                             PUGET SOUND ENERGY INC       5.306105e+10  \n",
              "118955      PUGET SOUND ENERGY INC||CITY OF TACOMA - (WA)       5.303302e+10  \n",
              "118956      PUGET SOUND ENERGY INC||CITY OF TACOMA - (WA)       5.303303e+10  \n",
              "118957       CITY OF SEATTLE - (WA)|CITY OF TACOMA - (WA)       5.303301e+10  \n",
              "118958  BONNEVILLE POWER ADMINISTRATION||PUD 1 OF SNOH...       5.302997e+10  \n",
              "\n",
              "[118959 rows x 17 columns]"
            ],
            "text/html": [
              "\n",
              "  <div id=\"df-c43e422d-4086-43a5-97ae-9e866b56c40a\">\n",
              "    <div class=\"colab-df-container\">\n",
              "      <div>\n",
              "<style scoped>\n",
              "    .dataframe tbody tr th:only-of-type {\n",
              "        vertical-align: middle;\n",
              "    }\n",
              "\n",
              "    .dataframe tbody tr th {\n",
              "        vertical-align: top;\n",
              "    }\n",
              "\n",
              "    .dataframe thead th {\n",
              "        text-align: right;\n",
              "    }\n",
              "</style>\n",
              "<table border=\"1\" class=\"dataframe\">\n",
              "  <thead>\n",
              "    <tr style=\"text-align: right;\">\n",
              "      <th></th>\n",
              "      <th>VIN (1-10)</th>\n",
              "      <th>County</th>\n",
              "      <th>City</th>\n",
              "      <th>State</th>\n",
              "      <th>Postal Code</th>\n",
              "      <th>Model Year</th>\n",
              "      <th>Make</th>\n",
              "      <th>Model</th>\n",
              "      <th>Electric Vehicle Type</th>\n",
              "      <th>Clean Alternative Fuel Vehicle (CAFV) Eligibility</th>\n",
              "      <th>Electric Range</th>\n",
              "      <th>Base MSRP</th>\n",
              "      <th>Legislative District</th>\n",
              "      <th>DOL Vehicle ID</th>\n",
              "      <th>Vehicle Location</th>\n",
              "      <th>Electric Utility</th>\n",
              "      <th>2020 Census Tract</th>\n",
              "    </tr>\n",
              "  </thead>\n",
              "  <tbody>\n",
              "    <tr>\n",
              "      <th>0</th>\n",
              "      <td>5YJ3E1EA8J</td>\n",
              "      <td>San Diego</td>\n",
              "      <td>Oceanside</td>\n",
              "      <td>CA</td>\n",
              "      <td>92051.0</td>\n",
              "      <td>2018</td>\n",
              "      <td>TESLA</td>\n",
              "      <td>MODEL 3</td>\n",
              "      <td>Battery Electric Vehicle (BEV)</td>\n",
              "      <td>Clean Alternative Fuel Vehicle Eligible</td>\n",
              "      <td>215</td>\n",
              "      <td>0</td>\n",
              "      <td>NaN</td>\n",
              "      <td>153998050</td>\n",
              "      <td>NaN</td>\n",
              "      <td>NaN</td>\n",
              "      <td>6.073019e+09</td>\n",
              "    </tr>\n",
              "    <tr>\n",
              "      <th>1</th>\n",
              "      <td>3FA6P0PU7H</td>\n",
              "      <td>Sedgwick</td>\n",
              "      <td>Derby</td>\n",
              "      <td>KS</td>\n",
              "      <td>67037.0</td>\n",
              "      <td>2017</td>\n",
              "      <td>FORD</td>\n",
              "      <td>FUSION</td>\n",
              "      <td>Plug-in Hybrid Electric Vehicle (PHEV)</td>\n",
              "      <td>Not eligible due to low battery range</td>\n",
              "      <td>21</td>\n",
              "      <td>0</td>\n",
              "      <td>NaN</td>\n",
              "      <td>138214331</td>\n",
              "      <td>POINT (-97.27013 37.54531)</td>\n",
              "      <td>NaN</td>\n",
              "      <td>2.017301e+10</td>\n",
              "    </tr>\n",
              "    <tr>\n",
              "      <th>2</th>\n",
              "      <td>1N4AZ0CP8D</td>\n",
              "      <td>Snohomish</td>\n",
              "      <td>Marysville</td>\n",
              "      <td>WA</td>\n",
              "      <td>98271.0</td>\n",
              "      <td>2013</td>\n",
              "      <td>NISSAN</td>\n",
              "      <td>LEAF</td>\n",
              "      <td>Battery Electric Vehicle (BEV)</td>\n",
              "      <td>Clean Alternative Fuel Vehicle Eligible</td>\n",
              "      <td>75</td>\n",
              "      <td>0</td>\n",
              "      <td>38.0</td>\n",
              "      <td>3129059</td>\n",
              "      <td>POINT (-122.19388 48.15353)</td>\n",
              "      <td>PUGET SOUND ENERGY INC</td>\n",
              "      <td>5.306105e+10</td>\n",
              "    </tr>\n",
              "    <tr>\n",
              "      <th>3</th>\n",
              "      <td>WBY8P8C58K</td>\n",
              "      <td>Kitsap</td>\n",
              "      <td>Bremerton</td>\n",
              "      <td>WA</td>\n",
              "      <td>98337.0</td>\n",
              "      <td>2019</td>\n",
              "      <td>BMW</td>\n",
              "      <td>I3</td>\n",
              "      <td>Plug-in Hybrid Electric Vehicle (PHEV)</td>\n",
              "      <td>Clean Alternative Fuel Vehicle Eligible</td>\n",
              "      <td>126</td>\n",
              "      <td>0</td>\n",
              "      <td>26.0</td>\n",
              "      <td>166525635</td>\n",
              "      <td>POINT (-122.62749 47.565)</td>\n",
              "      <td>PUGET SOUND ENERGY INC</td>\n",
              "      <td>5.303508e+10</td>\n",
              "    </tr>\n",
              "    <tr>\n",
              "      <th>4</th>\n",
              "      <td>5YJ3E1EA7K</td>\n",
              "      <td>Snohomish</td>\n",
              "      <td>Edmonds</td>\n",
              "      <td>WA</td>\n",
              "      <td>98026.0</td>\n",
              "      <td>2019</td>\n",
              "      <td>TESLA</td>\n",
              "      <td>MODEL 3</td>\n",
              "      <td>Battery Electric Vehicle (BEV)</td>\n",
              "      <td>Clean Alternative Fuel Vehicle Eligible</td>\n",
              "      <td>220</td>\n",
              "      <td>0</td>\n",
              "      <td>32.0</td>\n",
              "      <td>475248315</td>\n",
              "      <td>POINT (-122.31768 47.87166)</td>\n",
              "      <td>PUGET SOUND ENERGY INC</td>\n",
              "      <td>5.306105e+10</td>\n",
              "    </tr>\n",
              "    <tr>\n",
              "      <th>...</th>\n",
              "      <td>...</td>\n",
              "      <td>...</td>\n",
              "      <td>...</td>\n",
              "      <td>...</td>\n",
              "      <td>...</td>\n",
              "      <td>...</td>\n",
              "      <td>...</td>\n",
              "      <td>...</td>\n",
              "      <td>...</td>\n",
              "      <td>...</td>\n",
              "      <td>...</td>\n",
              "      <td>...</td>\n",
              "      <td>...</td>\n",
              "      <td>...</td>\n",
              "      <td>...</td>\n",
              "      <td>...</td>\n",
              "      <td>...</td>\n",
              "    </tr>\n",
              "    <tr>\n",
              "      <th>118954</th>\n",
              "      <td>5YJ3E1EB7N</td>\n",
              "      <td>Snohomish</td>\n",
              "      <td>Edmonds</td>\n",
              "      <td>WA</td>\n",
              "      <td>98020.0</td>\n",
              "      <td>2022</td>\n",
              "      <td>TESLA</td>\n",
              "      <td>MODEL 3</td>\n",
              "      <td>Battery Electric Vehicle (BEV)</td>\n",
              "      <td>Eligibility unknown as battery range has not b...</td>\n",
              "      <td>0</td>\n",
              "      <td>0</td>\n",
              "      <td>21.0</td>\n",
              "      <td>187322495</td>\n",
              "      <td>POINT (-122.37689 47.81116)</td>\n",
              "      <td>PUGET SOUND ENERGY INC</td>\n",
              "      <td>5.306105e+10</td>\n",
              "    </tr>\n",
              "    <tr>\n",
              "      <th>118955</th>\n",
              "      <td>1N4BZ0CP7H</td>\n",
              "      <td>King</td>\n",
              "      <td>Bellevue</td>\n",
              "      <td>WA</td>\n",
              "      <td>98004.0</td>\n",
              "      <td>2017</td>\n",
              "      <td>NISSAN</td>\n",
              "      <td>LEAF</td>\n",
              "      <td>Battery Electric Vehicle (BEV)</td>\n",
              "      <td>Clean Alternative Fuel Vehicle Eligible</td>\n",
              "      <td>107</td>\n",
              "      <td>0</td>\n",
              "      <td>48.0</td>\n",
              "      <td>349474394</td>\n",
              "      <td>POINT (-122.1872 47.61001)</td>\n",
              "      <td>PUGET SOUND ENERGY INC||CITY OF TACOMA - (WA)</td>\n",
              "      <td>5.303302e+10</td>\n",
              "    </tr>\n",
              "    <tr>\n",
              "      <th>118956</th>\n",
              "      <td>1N4AZ1CP8J</td>\n",
              "      <td>King</td>\n",
              "      <td>Redmond</td>\n",
              "      <td>WA</td>\n",
              "      <td>98052.0</td>\n",
              "      <td>2018</td>\n",
              "      <td>NISSAN</td>\n",
              "      <td>LEAF</td>\n",
              "      <td>Battery Electric Vehicle (BEV)</td>\n",
              "      <td>Clean Alternative Fuel Vehicle Eligible</td>\n",
              "      <td>151</td>\n",
              "      <td>0</td>\n",
              "      <td>45.0</td>\n",
              "      <td>292721068</td>\n",
              "      <td>POINT (-122.13158 47.67858)</td>\n",
              "      <td>PUGET SOUND ENERGY INC||CITY OF TACOMA - (WA)</td>\n",
              "      <td>5.303303e+10</td>\n",
              "    </tr>\n",
              "    <tr>\n",
              "      <th>118957</th>\n",
              "      <td>5YJXCAE41J</td>\n",
              "      <td>King</td>\n",
              "      <td>Seattle</td>\n",
              "      <td>WA</td>\n",
              "      <td>98109.0</td>\n",
              "      <td>2018</td>\n",
              "      <td>TESLA</td>\n",
              "      <td>MODEL X</td>\n",
              "      <td>Battery Electric Vehicle (BEV)</td>\n",
              "      <td>Clean Alternative Fuel Vehicle Eligible</td>\n",
              "      <td>238</td>\n",
              "      <td>0</td>\n",
              "      <td>36.0</td>\n",
              "      <td>144355970</td>\n",
              "      <td>POINT (-122.35022 47.63824)</td>\n",
              "      <td>CITY OF SEATTLE - (WA)|CITY OF TACOMA - (WA)</td>\n",
              "      <td>5.303301e+10</td>\n",
              "    </tr>\n",
              "    <tr>\n",
              "      <th>118958</th>\n",
              "      <td>YV4BR0CLXM</td>\n",
              "      <td>Island</td>\n",
              "      <td>Camano Island</td>\n",
              "      <td>WA</td>\n",
              "      <td>98282.0</td>\n",
              "      <td>2021</td>\n",
              "      <td>VOLVO</td>\n",
              "      <td>XC90</td>\n",
              "      <td>Plug-in Hybrid Electric Vehicle (PHEV)</td>\n",
              "      <td>Not eligible due to low battery range</td>\n",
              "      <td>18</td>\n",
              "      <td>0</td>\n",
              "      <td>10.0</td>\n",
              "      <td>149075293</td>\n",
              "      <td>POINT (-122.40049 48.23986)</td>\n",
              "      <td>BONNEVILLE POWER ADMINISTRATION||PUD 1 OF SNOH...</td>\n",
              "      <td>5.302997e+10</td>\n",
              "    </tr>\n",
              "  </tbody>\n",
              "</table>\n",
              "<p>118959 rows × 17 columns</p>\n",
              "</div>\n",
              "      <button class=\"colab-df-convert\" onclick=\"convertToInteractive('df-c43e422d-4086-43a5-97ae-9e866b56c40a')\"\n",
              "              title=\"Convert this dataframe to an interactive table.\"\n",
              "              style=\"display:none;\">\n",
              "        \n",
              "  <svg xmlns=\"http://www.w3.org/2000/svg\" height=\"24px\"viewBox=\"0 0 24 24\"\n",
              "       width=\"24px\">\n",
              "    <path d=\"M0 0h24v24H0V0z\" fill=\"none\"/>\n",
              "    <path d=\"M18.56 5.44l.94 2.06.94-2.06 2.06-.94-2.06-.94-.94-2.06-.94 2.06-2.06.94zm-11 1L8.5 8.5l.94-2.06 2.06-.94-2.06-.94L8.5 2.5l-.94 2.06-2.06.94zm10 10l.94 2.06.94-2.06 2.06-.94-2.06-.94-.94-2.06-.94 2.06-2.06.94z\"/><path d=\"M17.41 7.96l-1.37-1.37c-.4-.4-.92-.59-1.43-.59-.52 0-1.04.2-1.43.59L10.3 9.45l-7.72 7.72c-.78.78-.78 2.05 0 2.83L4 21.41c.39.39.9.59 1.41.59.51 0 1.02-.2 1.41-.59l7.78-7.78 2.81-2.81c.8-.78.8-2.07 0-2.86zM5.41 20L4 18.59l7.72-7.72 1.47 1.35L5.41 20z\"/>\n",
              "  </svg>\n",
              "      </button>\n",
              "      \n",
              "  <style>\n",
              "    .colab-df-container {\n",
              "      display:flex;\n",
              "      flex-wrap:wrap;\n",
              "      gap: 12px;\n",
              "    }\n",
              "\n",
              "    .colab-df-convert {\n",
              "      background-color: #E8F0FE;\n",
              "      border: none;\n",
              "      border-radius: 50%;\n",
              "      cursor: pointer;\n",
              "      display: none;\n",
              "      fill: #1967D2;\n",
              "      height: 32px;\n",
              "      padding: 0 0 0 0;\n",
              "      width: 32px;\n",
              "    }\n",
              "\n",
              "    .colab-df-convert:hover {\n",
              "      background-color: #E2EBFA;\n",
              "      box-shadow: 0px 1px 2px rgba(60, 64, 67, 0.3), 0px 1px 3px 1px rgba(60, 64, 67, 0.15);\n",
              "      fill: #174EA6;\n",
              "    }\n",
              "\n",
              "    [theme=dark] .colab-df-convert {\n",
              "      background-color: #3B4455;\n",
              "      fill: #D2E3FC;\n",
              "    }\n",
              "\n",
              "    [theme=dark] .colab-df-convert:hover {\n",
              "      background-color: #434B5C;\n",
              "      box-shadow: 0px 1px 3px 1px rgba(0, 0, 0, 0.15);\n",
              "      filter: drop-shadow(0px 1px 2px rgba(0, 0, 0, 0.3));\n",
              "      fill: #FFFFFF;\n",
              "    }\n",
              "  </style>\n",
              "\n",
              "      <script>\n",
              "        const buttonEl =\n",
              "          document.querySelector('#df-c43e422d-4086-43a5-97ae-9e866b56c40a button.colab-df-convert');\n",
              "        buttonEl.style.display =\n",
              "          google.colab.kernel.accessAllowed ? 'block' : 'none';\n",
              "\n",
              "        async function convertToInteractive(key) {\n",
              "          const element = document.querySelector('#df-c43e422d-4086-43a5-97ae-9e866b56c40a');\n",
              "          const dataTable =\n",
              "            await google.colab.kernel.invokeFunction('convertToInteractive',\n",
              "                                                     [key], {});\n",
              "          if (!dataTable) return;\n",
              "\n",
              "          const docLinkHtml = 'Like what you see? Visit the ' +\n",
              "            '<a target=\"_blank\" href=https://colab.research.google.com/notebooks/data_table.ipynb>data table notebook</a>'\n",
              "            + ' to learn more about interactive tables.';\n",
              "          element.innerHTML = '';\n",
              "          dataTable['output_type'] = 'display_data';\n",
              "          await google.colab.output.renderOutput(dataTable, element);\n",
              "          const docLink = document.createElement('div');\n",
              "          docLink.innerHTML = docLinkHtml;\n",
              "          element.appendChild(docLink);\n",
              "        }\n",
              "      </script>\n",
              "    </div>\n",
              "  </div>\n",
              "  "
            ]
          },
          "metadata": {},
          "execution_count": 12
        },
        {
          "output_type": "stream",
          "name": "stdout",
          "text": [
            "Warning: total number of rows (118959) exceeds max_rows (20000). Limiting to first (20000) rows.\n"
          ]
        }
      ]
    },
    {
      "cell_type": "code",
      "source": [
        "df.info()"
      ],
      "metadata": {
        "colab": {
          "base_uri": "https://localhost:8080/"
        },
        "id": "2bvVi-VaA5gc",
        "outputId": "d71aa8a3-8169-4f7d-d8b5-4b176dfb23a4"
      },
      "execution_count": null,
      "outputs": [
        {
          "output_type": "stream",
          "name": "stdout",
          "text": [
            "<class 'pandas.core.frame.DataFrame'>\n",
            "RangeIndex: 118959 entries, 0 to 118958\n",
            "Data columns (total 17 columns):\n",
            " #   Column                                             Non-Null Count   Dtype  \n",
            "---  ------                                             --------------   -----  \n",
            " 0   VIN (1-10)                                         118959 non-null  object \n",
            " 1   County                                             118957 non-null  object \n",
            " 2   City                                               118957 non-null  object \n",
            " 3   State                                              118959 non-null  object \n",
            " 4   Postal Code                                        118957 non-null  float64\n",
            " 5   Model Year                                         118959 non-null  int64  \n",
            " 6   Make                                               118959 non-null  object \n",
            " 7   Model                                              118826 non-null  object \n",
            " 8   Electric Vehicle Type                              118959 non-null  object \n",
            " 9   Clean Alternative Fuel Vehicle (CAFV) Eligibility  118959 non-null  object \n",
            " 10  Electric Range                                     118959 non-null  int64  \n",
            " 11  Base MSRP                                          118959 non-null  int64  \n",
            " 12  Legislative District                               118665 non-null  float64\n",
            " 13  DOL Vehicle ID                                     118959 non-null  int64  \n",
            " 14  Vehicle Location                                   118926 non-null  object \n",
            " 15  Electric Utility                                   118497 non-null  object \n",
            " 16  2020 Census Tract                                  118957 non-null  float64\n",
            "dtypes: float64(3), int64(4), object(10)\n",
            "memory usage: 15.4+ MB\n"
          ]
        }
      ]
    },
    {
      "cell_type": "code",
      "source": [
        "print(df.shape)"
      ],
      "metadata": {
        "colab": {
          "base_uri": "https://localhost:8080/"
        },
        "id": "MHxb2tgqBAt1",
        "outputId": "3a4cbcf7-e5f2-4fc2-d583-4ec496f06dd4"
      },
      "execution_count": null,
      "outputs": [
        {
          "output_type": "stream",
          "name": "stdout",
          "text": [
            "(118959, 17)\n"
          ]
        }
      ]
    },
    {
      "cell_type": "code",
      "source": [
        "df.isnull().sum()"
      ],
      "metadata": {
        "colab": {
          "base_uri": "https://localhost:8080/"
        },
        "id": "-KcwJ-T3BDw5",
        "outputId": "b407d6b5-5f23-4256-ee57-2cd26b1f2f39"
      },
      "execution_count": null,
      "outputs": [
        {
          "output_type": "execute_result",
          "data": {
            "text/plain": [
              "VIN (1-10)                                             0\n",
              "County                                                 2\n",
              "City                                                   2\n",
              "State                                                  0\n",
              "Postal Code                                            2\n",
              "Model Year                                             0\n",
              "Make                                                   0\n",
              "Model                                                133\n",
              "Electric Vehicle Type                                  0\n",
              "Clean Alternative Fuel Vehicle (CAFV) Eligibility      0\n",
              "Electric Range                                         0\n",
              "Base MSRP                                              0\n",
              "Legislative District                                 294\n",
              "DOL Vehicle ID                                         0\n",
              "Vehicle Location                                      33\n",
              "Electric Utility                                     462\n",
              "2020 Census Tract                                      2\n",
              "dtype: int64"
            ]
          },
          "metadata": {},
          "execution_count": 24
        }
      ]
    },
    {
      "cell_type": "code",
      "source": [
        "#removed the missing values\n",
        "df=df.dropna(subset=['Model','Electric Utility'])\n",
        "print(df.shape)"
      ],
      "metadata": {
        "colab": {
          "base_uri": "https://localhost:8080/"
        },
        "id": "di9Ko3K9BQ6g",
        "outputId": "753f84c2-a2bd-468c-8c84-be86c7690cff"
      },
      "execution_count": null,
      "outputs": [
        {
          "output_type": "stream",
          "name": "stdout",
          "text": [
            "(118364, 17)\n"
          ]
        }
      ]
    },
    {
      "cell_type": "code",
      "source": [
        "#scatter plot\n",
        "plt.scatter(df[\"Electric Range\"],df[\"Model Year\"],c=\"red\", s=1) \n",
        "plt.xlabel(\"Electric Range\")\n",
        "plt.ylabel(\"Model Year\")\n"
      ],
      "metadata": {
        "colab": {
          "base_uri": "https://localhost:8080/",
          "height": 302
        },
        "id": "3ZGPUmmI_lfG",
        "outputId": "2b238788-48bd-4181-e3a3-297b9dad5891"
      },
      "execution_count": null,
      "outputs": [
        {
          "output_type": "execute_result",
          "data": {
            "text/plain": [
              "Text(0, 0.5, 'Model Year')"
            ]
          },
          "metadata": {},
          "execution_count": 62
        },
        {
          "output_type": "display_data",
          "data": {
            "text/plain": [
              "<Figure size 432x288 with 1 Axes>"
            ],
            "image/png": "[encoded data removed]"
          },
          "metadata": {}
        }
      ]
    },
    {
      "cell_type": "code",
      "source": [
        "#tried a k value of 2\n",
        "k=2\n",
        "X=np.array(list(zip(df['Electric Range'], df['Model Year'])))\n",
        "model=KMeans(n_clusters=k)\n",
        "kmeans=model.fit(X)\n",
        "labels=model.predict(X)\n",
        "centroids=model.cluster_centers_\n",
        "\n",
        "print(labels)\n",
        "print(centroids)\n"
      ],
      "metadata": {
        "colab": {
          "base_uri": "https://localhost:8080/"
        },
        "id": "Oht1XHkyGapq",
        "outputId": "f3b012f2-4da9-4622-b3d8-2084d2280345"
      },
      "execution_count": null,
      "outputs": [
        {
          "output_type": "stream",
          "name": "stdout",
          "text": [
            "[1 1 0 ... 0 0 1]\n",
            "[[ 231.57958826 2018.29446635]\n",
            " [  22.29709103 2019.60095817]]\n"
          ]
        }
      ]
    },
    {
      "cell_type": "code",
      "source": [
        "#Plotted the data and centroids on the scatter plot\n",
        "#mapped the labels to colors\n",
        "c=['m','g','b','r','y','c']\n",
        "colors=[c[i] for i in labels]\n",
        "\n",
        "plt.scatter(df['Electric Range'], df['Model Year'], c=colors, s=2)\n",
        "plt.scatter(centroids[:,0], centroids[:,1], marker='*', s=100, c='black')"
      ],
      "metadata": {
        "colab": {
          "base_uri": "https://localhost:8080/",
          "height": 285
        },
        "id": "y7nGA_PPHEz-",
        "outputId": "c755e5b6-633f-4fe4-9a8e-c2be33e64901"
      },
      "execution_count": null,
      "outputs": [
        {
          "output_type": "execute_result",
          "data": {
            "text/plain": [
              "<matplotlib.collections.PathCollection at 0x7ff2b17962e0>"
            ]
          },
          "metadata": {},
          "execution_count": 64
        },
        {
          "output_type": "display_data",
          "data": {
            "text/plain": [
              "<Figure size 432x288 with 1 Axes>"
            ],
            "image/png": "[encoded data removed]"
          },
          "metadata": {}
        }
      ]
    },
    {
      "cell_type": "code",
      "source": [
        "#Using the model that you have just trained, \n",
        "#you can use it to predict what cluster for any data pt\n",
        "cluster=model.predict([[35,200]])[0]\n",
        "print(c[cluster])"
      ],
      "metadata": {
        "colab": {
          "base_uri": "https://localhost:8080/"
        },
        "id": "2gt5q9PRHPo0",
        "outputId": "4eaa7257-0358-42de-f70f-14c6b4f512a7"
      },
      "execution_count": null,
      "outputs": [
        {
          "output_type": "stream",
          "name": "stdout",
          "text": [
            "g\n"
          ]
        }
      ]
    },
    {
      "cell_type": "code",
      "source": [
        "#making preductions\n",
        "cluster=model.predict([[50,2020]])[0]\n",
        "print(c[cluster]) \n",
        "\n",
        "cluster=model.predict([[230,2018]])[0]\n",
        "print(c[cluster]) \n",
        "\n",
        "cluster=model.predict([[200,2015]])[0]\n",
        "print(c[cluster])"
      ],
      "metadata": {
        "colab": {
          "base_uri": "https://localhost:8080/"
        },
        "id": "jLQyuHtaIGka",
        "outputId": "bf5e346b-2416-44be-c182-14c7452f9e55"
      },
      "execution_count": null,
      "outputs": [
        {
          "output_type": "stream",
          "name": "stdout",
          "text": [
            "m\n",
            "g\n",
            "g\n"
          ]
        }
      ]
    },
    {
      "cell_type": "code",
      "source": [
        "#obtaining the silhouette coefficient(score)\n",
        "from sklearn.metrics import silhouette_score\n",
        "\n",
        "model=KMeans(n_clusters=2)\n",
        "model.fit(X)\n",
        "label=model.predict(X)\n",
        "\n",
        "print(f'silhouette Score (n=2):  {silhouette_score(X,label)}')"
      ],
      "metadata": {
        "colab": {
          "base_uri": "https://localhost:8080/"
        },
        "id": "wKvtlYdBIiF1",
        "outputId": "160685f1-4d52-40ae-81b7-57e25c9ce5b6"
      },
      "execution_count": null,
      "outputs": [
        {
          "output_type": "stream",
          "name": "stdout",
          "text": [
            "silhouette Score (n=2):  0.8117937446180223\n"
          ]
        }
      ]
    }
  ]
}