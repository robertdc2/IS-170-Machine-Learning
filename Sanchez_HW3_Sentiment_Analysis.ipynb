{
  "nbformat": 4,
  "nbformat_minor": 0,
  "metadata": {
    "colab": {
      "provenance": [],
      "include_colab_link": true
    },
    "kernelspec": {
      "name": "python3",
      "display_name": "Python 3"
    },
    "language_info": {
      "name": "python"
    }
  },
  "cells": [
    {
      "cell_type": "markdown",
      "metadata": {
        "id": "view-in-github",
        "colab_type": "text"
      },
      "source": [
        "<a href=\"https://colab.research.google.com/github/robertdc2/IS-170-Machine-Learning/blob/3.-Text-Mining-%26-NLP/Sanchez_HW3_Sentiment_Analysis.ipynb\" target=\"_parent\"><img src=\"https://colab.research.google.com/assets/colab-badge.svg\" alt=\"Open In Colab\"/></a>"
      ]
    },
    {
      "cell_type": "code",
      "source": [
        "import nltk\n",
        "nltk.download('punkt')\n"
      ],
      "metadata": {
        "colab": {
          "base_uri": "https://localhost:8080/"
        },
        "id": "-iqUdPP_hPSg",
        "outputId": "97fcab77-c4f8-4b6d-b192-7454bfe13c31"
      },
      "execution_count": null,
      "outputs": [
        {
          "output_type": "stream",
          "name": "stderr",
          "text": [
            "[nltk_data] Downloading package punkt to /root/nltk_data...\n",
            "[nltk_data]   Unzipping tokenizers/punkt.zip.\n"
          ]
        },
        {
          "output_type": "execute_result",
          "data": {
            "text/plain": [
              "True"
            ]
          },
          "metadata": {},
          "execution_count": 1
        }
      ]
    },
    {
      "cell_type": "markdown",
      "source": [
        "# Sentiment Analysis"
      ],
      "metadata": {
        "id": "MSKbURahHm1e"
      }
    },
    {
      "cell_type": "code",
      "source": [
        "!pip install Textblob"
      ],
      "metadata": {
        "colab": {
          "base_uri": "https://localhost:8080/"
        },
        "id": "66ftjC-gGihF",
        "outputId": "10c09ed3-d46b-4e7a-fc39-155a0d67833e"
      },
      "execution_count": 2,
      "outputs": [
        {
          "output_type": "stream",
          "name": "stdout",
          "text": [
            "Looking in indexes: https://pypi.org/simple, https://us-python.pkg.dev/colab-wheels/public/simple/\n",
            "Requirement already satisfied: Textblob in /usr/local/lib/python3.10/dist-packages (0.17.1)\n",
            "Requirement already satisfied: nltk>=3.1 in /usr/local/lib/python3.10/dist-packages (from Textblob) (3.8.1)\n",
            "Requirement already satisfied: tqdm in /usr/local/lib/python3.10/dist-packages (from nltk>=3.1->Textblob) (4.65.0)\n",
            "Requirement already satisfied: regex>=2021.8.3 in /usr/local/lib/python3.10/dist-packages (from nltk>=3.1->Textblob) (2022.10.31)\n",
            "Requirement already satisfied: joblib in /usr/local/lib/python3.10/dist-packages (from nltk>=3.1->Textblob) (1.2.0)\n",
            "Requirement already satisfied: click in /usr/local/lib/python3.10/dist-packages (from nltk>=3.1->Textblob) (8.1.3)\n"
          ]
        }
      ]
    },
    {
      "cell_type": "code",
      "source": [
        "!pip install vaderSentiment"
      ],
      "metadata": {
        "colab": {
          "base_uri": "https://localhost:8080/"
        },
        "id": "6EPxcnDaGnWX",
        "outputId": "18751fda-28df-4c34-e5ab-78ed5a67ffef"
      },
      "execution_count": 3,
      "outputs": [
        {
          "output_type": "stream",
          "name": "stdout",
          "text": [
            "Looking in indexes: https://pypi.org/simple, https://us-python.pkg.dev/colab-wheels/public/simple/\n",
            "Collecting vaderSentiment\n",
            "  Downloading vaderSentiment-3.3.2-py2.py3-none-any.whl (125 kB)\n",
            "\u001b[2K     \u001b[90m━━━━━━━━━━━━━━━━━━━━━━━━━━━━━━━━━━━━━━━\u001b[0m \u001b[32m126.0/126.0 kB\u001b[0m \u001b[31m2.3 MB/s\u001b[0m eta \u001b[36m0:00:00\u001b[0m\n",
            "\u001b[?25hRequirement already satisfied: requests in /usr/local/lib/python3.10/dist-packages (from vaderSentiment) (2.27.1)\n",
            "Requirement already satisfied: urllib3<1.27,>=1.21.1 in /usr/local/lib/python3.10/dist-packages (from requests->vaderSentiment) (1.26.15)\n",
            "Requirement already satisfied: certifi>=2017.4.17 in /usr/local/lib/python3.10/dist-packages (from requests->vaderSentiment) (2022.12.7)\n",
            "Requirement already satisfied: idna<4,>=2.5 in /usr/local/lib/python3.10/dist-packages (from requests->vaderSentiment) (3.4)\n",
            "Requirement already satisfied: charset-normalizer~=2.0.0 in /usr/local/lib/python3.10/dist-packages (from requests->vaderSentiment) (2.0.12)\n",
            "Installing collected packages: vaderSentiment\n",
            "Successfully installed vaderSentiment-3.3.2\n"
          ]
        }
      ]
    },
    {
      "cell_type": "code",
      "source": [
        " from vaderSentiment.vaderSentiment import SentimentIntensityAnalyzer\n",
        " analyser=SentimentIntensityAnalyzer()\n",
        " "
      ],
      "metadata": {
        "id": "EIwuvHeMGwfh"
      },
      "execution_count": 4,
      "outputs": []
    },
    {
      "cell_type": "code",
      "source": [
        "# Analyzes the sentence for positive, neutral, and negative words. We changed the word from cool to astonishing and the postive score increased\n",
        "def sentiment_analyzer_scores(sentence):\n",
        "  score=analyser.polarity_scores(sentence)\n",
        "  print(\"{:-<40}{}\".format(sentence,str(score)))\n",
        "\n",
        "print(sentiment_analyzer_scores(\"The car is astonishing!\"))\n"
      ],
      "metadata": {
        "colab": {
          "base_uri": "https://localhost:8080/"
        },
        "id": "TgUeBDejHmYo",
        "outputId": "20544637-9b5d-4574-f861-4c18cb473514"
      },
      "execution_count": 5,
      "outputs": [
        {
          "output_type": "stream",
          "name": "stdout",
          "text": [
            "The car is astonishing!-----------------{'neg': 0.0, 'neu': 1.0, 'pos': 0.0, 'compound': 0.0}\n",
            "None\n"
          ]
        }
      ]
    },
    {
      "cell_type": "code",
      "source": [
        "# The more exclamation marks increase the positive sentiment, but caps out at 4 exclamation marks. Some words have more positive sentiment than others\n",
        "print(sentiment_analyzer_scores(\"The car is astonishing\"))\n",
        "print(sentiment_analyzer_scores(\"The car is astonishing!\"))\n",
        "print(sentiment_analyzer_scores(\"The car is astonishing!!\"))\n",
        "print(sentiment_analyzer_scores(\"The car is astonishing!!!\"))"
      ],
      "metadata": {
        "colab": {
          "base_uri": "https://localhost:8080/"
        },
        "id": "QfJd5r-yXy9q",
        "outputId": "5247977b-7391-45c3-8e95-883ce764eaf8"
      },
      "execution_count": null,
      "outputs": [
        {
          "output_type": "stream",
          "name": "stdout",
          "text": [
            "The car is cool-------------------------{'neg': 0.0, 'neu': 0.566, 'pos': 0.434, 'compound': 0.3182}\n",
            "None\n",
            "The car is cool!------------------------{'neg': 0.0, 'neu': 0.536, 'pos': 0.464, 'compound': 0.3802}\n",
            "None\n",
            "The car is cool!!-----------------------{'neg': 0.0, 'neu': 0.51, 'pos': 0.49, 'compound': 0.4374}\n",
            "None\n",
            "The car is cool!!!----------------------{'neg': 0.0, 'neu': 0.486, 'pos': 0.514, 'compound': 0.4898}\n",
            "None\n"
          ]
        }
      ]
    },
    {
      "cell_type": "code",
      "source": [
        "# As we add more details describing the word it can effect the sentiment scores\n",
        "print(sentiment_analyzer_scores(\"The car is not very astonishing!\"))\n",
        "print(sentiment_analyzer_scores(\"The car is marginally astonishing!\"))\n",
        "print(sentiment_analyzer_scores(\"The car is extremely astonishing!\"))"
      ],
      "metadata": {
        "colab": {
          "base_uri": "https://localhost:8080/"
        },
        "id": "JWvNdY09dRqz",
        "outputId": "25a9b346-853b-4755-fc7d-f97356732d78"
      },
      "execution_count": null,
      "outputs": [
        {
          "output_type": "stream",
          "name": "stdout",
          "text": [
            "The car is cool!------------------------{'neg': 0.0, 'neu': 0.536, 'pos': 0.464, 'compound': 0.3802}\n",
            "None\n",
            "The car is marginally cool!-------------{'neg': 0.0, 'neu': 0.635, 'pos': 0.365, 'compound': 0.318}\n",
            "None\n",
            "The car is extremely cool!--------------{'neg': 0.0, 'neu': 0.581, 'pos': 0.419, 'compound': 0.4376}\n",
            "None\n"
          ]
        }
      ]
    },
    {
      "cell_type": "code",
      "source": [
        " # This command prints entire statement and then provides the sentiment values\n",
        " from vaderSentiment.vaderSentiment import SentimentIntensityAnalyzer\n",
        " analyser=SentimentIntensityAnalyzer()\n",
        "\n",
        " def sentiment_analyzer_scores(sentence):\n",
        "  score=analyser.polarity_scores(sentence)\n",
        "  print(\"{:-<40}{}\".format(sentence,str(score)))\n",
        "\n",
        "print(sentiment_analyzer_scores(\"I enjoyed your hotel food, but I disliked the way waiters offer their services\"))\n"
      ],
      "metadata": {
        "colab": {
          "base_uri": "https://localhost:8080/"
        },
        "id": "qGXLWcGGbF8t",
        "outputId": "9ae717a5-921a-45ec-aa14-892baf4ca131"
      },
      "execution_count": null,
      "outputs": [
        {
          "output_type": "stream",
          "name": "stdout",
          "text": [
            "I enjoyed your hotel food, but I didn't like the way waiters offer their services{'neg': 0.15, 'neu': 0.73, 'pos': 0.121, 'compound': -0.1318}\n",
            "None\n"
          ]
        }
      ]
    },
    {
      "cell_type": "markdown",
      "source": [
        "# Chatbot"
      ],
      "metadata": {
        "id": "eh8ZcdmLwp97"
      }
    },
    {
      "cell_type": "code",
      "source": [
        "!pip install chatterbot\n",
        "!pip install chatterbot_corpus\n"
      ],
      "metadata": {
        "colab": {
          "base_uri": "https://localhost:8080/"
        },
        "id": "tIgzkA2wws29",
        "outputId": "ec1d5e09-c0cb-417c-bae1-a513f0b510d8"
      },
      "execution_count": null,
      "outputs": [
        {
          "output_type": "stream",
          "name": "stdout",
          "text": [
            "Looking in indexes: https://pypi.org/simple, https://us-python.pkg.dev/colab-wheels/public/simple/\n",
            "Collecting chatterbot\n",
            "  Downloading ChatterBot-1.0.5-py2.py3-none-any.whl (67 kB)\n",
            "\u001b[2K     \u001b[90m━━━━━━━━━━━━━━━━━━━━━━━━━━━━━━━━━━━━━━━━\u001b[0m \u001b[32m67.8/67.8 KB\u001b[0m \u001b[31m2.1 MB/s\u001b[0m eta \u001b[36m0:00:00\u001b[0m\n",
            "\u001b[?25hCollecting python-dateutil<2.8,>=2.7\n",
            "  Downloading python_dateutil-2.7.5-py2.py3-none-any.whl (225 kB)\n",
            "\u001b[2K     \u001b[90m━━━━━━━━━━━━━━━━━━━━━━━━━━━━━━━━━━━━━━━\u001b[0m \u001b[32m225.7/225.7 KB\u001b[0m \u001b[31m8.3 MB/s\u001b[0m eta \u001b[36m0:00:00\u001b[0m\n",
            "\u001b[?25hCollecting mathparse<0.2,>=0.1\n",
            "  Downloading mathparse-0.1.2-py3-none-any.whl (7.2 kB)\n",
            "Collecting pyyaml<5.2,>=5.1\n",
            "  Downloading PyYAML-5.1.2.tar.gz (265 kB)\n",
            "\u001b[2K     \u001b[90m━━━━━━━━━━━━━━━━━━━━━━━━━━━━━━━━━━━━━━\u001b[0m \u001b[32m265.0/265.0 KB\u001b[0m \u001b[31m16.0 MB/s\u001b[0m eta \u001b[36m0:00:00\u001b[0m\n",
            "\u001b[?25h  Preparing metadata (setup.py) ... \u001b[?25l\u001b[?25hdone\n",
            "Requirement already satisfied: nltk<4.0,>=3.2 in /usr/local/lib/python3.8/dist-packages (from chatterbot) (3.7)\n",
            "Requirement already satisfied: pytz in /usr/local/lib/python3.8/dist-packages (from chatterbot) (2022.7.1)\n",
            "Collecting pymongo<4.0,>=3.3\n",
            "  Downloading pymongo-3.13.0-cp38-cp38-manylinux_2_17_x86_64.manylinux2014_x86_64.whl (526 kB)\n",
            "\u001b[2K     \u001b[90m━━━━━━━━━━━━━━━━━━━━━━━━━━━━━━━━━━━━━━━\u001b[0m \u001b[32m526.2/526.2 KB\u001b[0m \u001b[31m8.5 MB/s\u001b[0m eta \u001b[36m0:00:00\u001b[0m\n",
            "\u001b[?25hCollecting pint>=0.8.1\n",
            "  Downloading Pint-0.20.1-py3-none-any.whl (269 kB)\n",
            "\u001b[2K     \u001b[90m━━━━━━━━━━━━━━━━━━━━━━━━━━━━━━━━━━━━━━━\u001b[0m \u001b[32m269.5/269.5 KB\u001b[0m \u001b[31m8.8 MB/s\u001b[0m eta \u001b[36m0:00:00\u001b[0m\n",
            "\u001b[?25hCollecting spacy<2.2,>=2.1\n",
            "  Downloading spacy-2.1.9.tar.gz (30.7 MB)\n",
            "\u001b[2K     \u001b[90m━━━━━━━━━━━━━━━━━━━━━━━━━━━━━━━━━━━━━━━━\u001b[0m \u001b[32m30.7/30.7 MB\u001b[0m \u001b[31m10.6 MB/s\u001b[0m eta \u001b[36m0:00:00\u001b[0m\n",
            "\u001b[?25h"
          ]
        }
      ]
    },
    {
      "cell_type": "code",
      "source": [
        "!pip install --upgrade chatterbot_corpus\n",
        "!pip install --upgrade chatterbot\n"
      ],
      "metadata": {
        "id": "c0tszLJ5xUoe"
      },
      "execution_count": null,
      "outputs": []
    },
    {
      "cell_type": "code",
      "source": [
        "from chatterbot import ChatBot\n",
        "from chatterbot.trainers import ListTrainer\n"
      ],
      "metadata": {
        "id": "8fr55-_6xsRD"
      },
      "execution_count": null,
      "outputs": []
    },
    {
      "cell_type": "code",
      "source": [
        "my_bot=ChatBot(name='PyBot', read_only=True, logic_adapters=['chatterbot.logic.MathematicalEvaluation', 'chatterbot.logic.BestMatch'])\n"
      ],
      "metadata": {
        "id": "DihxLCLKx3DG"
      },
      "execution_count": null,
      "outputs": []
    },
    {
      "cell_type": "code",
      "source": [
        "small_talk=['hi there!',\n",
        "            'hi!',\n",
        "            'how do you do?',\n",
        "            'how are you?',\n",
        "            'i\\'m cool.',\n",
        "            'fine, you?',\n",
        "            'always cool.',\n",
        "            'i\\'m ok',\n",
        "            'glad to hear that.',\n",
        "            'i\\'m fine',\n",
        "            'glad to hear that.',\n",
        "            'i feel awesome',\n",
        "            'excellent, glad to hear that.',\n",
        "            'not so good',\n",
        "            'sorry to hear that.',\n",
        "            'what\\'s your name?',\n",
        "            'i\\'m pybot. ask me a math question, please.']\n",
        "\n",
        "math_talk_2=['law of cosines',\n",
        "             'c**2 = a**2 + b**2-2*a*b*cos(gamma)']\n"
      ],
      "metadata": {
        "id": "k05C2XEcZYvq"
      },
      "execution_count": null,
      "outputs": []
    },
    {
      "cell_type": "code",
      "source": [
        "list_trainer=ListTrainer(my_bot)\n",
        "\n",
        "for item in (small_talk, math_talk_2):\n",
        "    list_trainer.train(item)\n"
      ],
      "metadata": {
        "id": "VyFqGZOTc1AT"
      },
      "execution_count": null,
      "outputs": []
    },
    {
      "cell_type": "code",
      "source": [
        "print(my_bot.get_response(\"hi\"))\n"
      ],
      "metadata": {
        "id": "GzFhXAXldGqy"
      },
      "execution_count": null,
      "outputs": []
    },
    {
      "cell_type": "code",
      "source": [
        "print(my_bot.get_response(\"hello, how are you doing today\"))"
      ],
      "metadata": {
        "id": "eyuHN8xxwivu"
      },
      "execution_count": null,
      "outputs": []
    },
    {
      "cell_type": "code",
      "source": [
        "print(my_bot.get_response(\"what is todays date?\"))"
      ],
      "metadata": {
        "id": "E9_rMAshwe93"
      },
      "execution_count": null,
      "outputs": []
    },
    {
      "cell_type": "code",
      "source": [
        "print(my_bot.get_response(\"where are you going?\"))"
      ],
      "metadata": {
        "id": "XdcSOujpwd_n"
      },
      "execution_count": null,
      "outputs": []
    },
    {
      "cell_type": "code",
      "source": [
        "print(my_bot.get_response(\"i feel awesome today\"))"
      ],
      "metadata": {
        "id": "N8nbSVoBejVs"
      },
      "execution_count": null,
      "outputs": []
    },
    {
      "cell_type": "code",
      "source": [
        "print(my_bot.get_response(\"what's your name?\"))"
      ],
      "metadata": {
        "id": "QPjXXe3KewCk"
      },
      "execution_count": null,
      "outputs": []
    },
    {
      "cell_type": "code",
      "source": [
        "print(my_bot.get_response(\"do you know the law of cosines?\"))"
      ],
      "metadata": {
        "id": "c4Rb4xOqthED"
      },
      "execution_count": null,
      "outputs": []
    },
    {
      "cell_type": "code",
      "source": [
        "print(my_bot.get_response(\"always cool.\"))"
      ],
      "metadata": {
        "id": "b4muazwRFxly"
      },
      "execution_count": null,
      "outputs": []
    },
    {
      "cell_type": "code",
      "source": [
        "from chatterbot.trainers import ChatterBotCorpusTrainer\n",
        "\n",
        "corpus_trainer=ChatterBotCorpusTrainer(my_bot)\n",
        "corpus_trainer.train('chatterbot.corpus.english')"
      ],
      "metadata": {
        "id": "j2S5q7Pkt7MN"
      },
      "execution_count": null,
      "outputs": []
    }
  ]
}